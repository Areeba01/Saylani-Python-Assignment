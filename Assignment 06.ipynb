{
 "cells": [
  {
   "cell_type": "markdown",
   "metadata": {},
   "source": [
    "# Assignment : 06\n"
   ]
  },
  {
   "cell_type": "markdown",
   "metadata": {},
   "source": [
    "Q:01 Define Object Oriented Programming Language"
   ]
  },
  {
   "cell_type": "code",
   "execution_count": null,
   "metadata": {},
   "outputs": [],
   "source": [
    "Object-oriented programming (OOP) refers to a type of computer programming (software design) in which programmers define the data type of a data structure, and also the types of operations (functions) that can be applied to the data structure.\n",
    "\n",
    "In this way, the data structure becomes an object that includes both data and functions. In addition, programmers can create relationships between one object and another. For example, objects can inherit characteristics from other objects.\n",
    "\n",
    "The Basic OOP Concepts\n",
    "1-Abstraction: The process of picking out (abstracting) common features of objects and procedures.\n",
    "2-Class: A category of objects. The class defines all the common properties of the different objects that belong to it.\n",
    "3-Encapsulation: The process of combining elements to create a new entity. A procedure is a type of encapsulation because it combines a series of computer instructions.\n",
    "4-Information hiding: The process of hiding details of an object or function. Information hiding is a powerful programming technique because it reduces complexity.\n",
    "5-Inheritance: a feature that represents the \"is a\" relationship between different classes.\n",
    "6-Interface: the languages and codes that the applications use to communicate with each other and with the hardware.\n",
    "7-Messaging: Message passing is a form of communication used in parallel programming and object-oriented programming.\n",
    "8-Object: a self-contained entity that consists of both data and procedures to manipulate the data.\n",
    "9-Polymorphism: A programming language's ability to process objects differently depending on their data type or class.\n",
    "10-Procedure: a section of a program that performs a specific task."
   ]
  },
  {
   "cell_type": "markdown",
   "metadata": {},
   "source": [
    "Q:02 List down the benefits of OOP"
   ]
  },
  {
   "cell_type": "code",
   "execution_count": null,
   "metadata": {},
   "outputs": [],
   "source": [
    "• Modularity for easier troubleshooting. Something has gone wrong, and you have no idea where to look.\n",
    "• Reuse of code through inheritance.\n",
    "• Flexibility through polymorphism.\n",
    "• Effective problem solving."
   ]
  },
  {
   "cell_type": "markdown",
   "metadata": {},
   "source": [
    "Q:03 Differentiate between function and method"
   ]
  },
  {
   "cell_type": "code",
   "execution_count": null,
   "metadata": {},
   "outputs": [],
   "source": [
    "FUNCTIONS:\n",
    "    • Functions donot have refrence variables.\n",
    "    • All data that is passed to a function is explicitly passed.\n",
    "    • It dosenot have access controlling i.e, Function(other than static functions) declares and defines anywhere in the code.\n",
    "    • Function applies to both Object Oriented and non-Object Oriented languages(procedural language e.g, C,Scripting Language like JavaScript etc).\n",
    "    \n",
    "METHODS:\n",
    "    • Methods are called by refrence variables.\n",
    "    • It is implicity passed the object for which it was called.\n",
    "    • It has access controlling i.e, Methods should declare and define in the class only.\n",
    "    • Method is only applicable to Object Oriented Programming Languages like C,C++,C#,JAVA etc."
   ]
  },
  {
   "cell_type": "markdown",
   "metadata": {},
   "source": [
    "Q:04 Define the following terms:\n",
    "        1.Class\n",
    "        2.Object\n",
    "        3.Attribute\n",
    "        4.Behavior"
   ]
  },
  {
   "cell_type": "code",
   "execution_count": null,
   "metadata": {},
   "outputs": [],
   "source": [
    "CLASS: a category of objects. The class defines all the common properties of the different objects that belong to it.\n",
    "\n",
    "OBJECT: a self-contained entity that consists of both data and procedures to manipulate the data.\n",
    "\n",
    "ATTRIBUTE: belong to the class itself they will be shared by all the instances. Such attributes are defined in the class body parts usually at the top, for legibility.\n",
    "\n",
    "BEHAVIOR: a class's behavior determines how an instance of that class operates; for example, how it will \"react\" if asked to do something by another class or object or if its internal state changes. Behavior is the only way objects can do anything to themselves or have anything done to them. For example, to go back to the theoretical Motorcycle class, here are some behaviors that the Motorcycle class might have:\n",
    "\n",
    "Start the engine\n",
    "Stop the engine\n",
    "Speed up\n",
    "Change gear\n",
    "Stall\n",
    "\n",
    "\n"
   ]
  },
  {
   "cell_type": "markdown",
   "metadata": {},
   "source": [
    "Q:05 Write a code in python in which create a class named it Car which\n",
    "have 5 attributes such like (model, color and name etc.) and 3\n",
    "methods. And create 5 object instance from that class."
   ]
  },
  {
   "cell_type": "code",
   "execution_count": 7,
   "metadata": {},
   "outputs": [
    {
     "ename": "SyntaxError",
     "evalue": "invalid syntax (<ipython-input-7-3c5ee7e6eebd>, line 3)",
     "output_type": "error",
     "traceback": [
      "\u001b[1;36m  File \u001b[1;32m\"<ipython-input-7-3c5ee7e6eebd>\"\u001b[1;36m, line \u001b[1;32m3\u001b[0m\n\u001b[1;33m    def_init_(self,model,color,company,speedlimit,name):\u001b[0m\n\u001b[1;37m                                                        ^\u001b[0m\n\u001b[1;31mSyntaxError\u001b[0m\u001b[1;31m:\u001b[0m invalid syntax\n"
     ]
    }
   ],
   "source": [
    "class car(object):\n",
    "    \n",
    "    def_init_(self,model,color,company,speedlimit,name):\n",
    "        self.color=color\n",
    "        self.model=model\n",
    "        self.company=company\n",
    "        self.speed_limit=speedlimit\n",
    "        self.namename\n",
    "    def start(self):\n",
    "        print(\"Started\")\n",
    "    def stop(self):\n",
    "        print(\"stopped\")\n",
    "    def accelarate(self):\n",
    "        print(\"accelarating\")\n",
    "\n",
    "car_b=car(\"automatic\",\"grande\",\"black\",\"toyota\",\"400\",\"corolla grande\")\n",
    "\n"
   ]
  },
  {
   "cell_type": "code",
   "execution_count": null,
   "metadata": {},
   "outputs": [],
   "source": []
  }
 ],
 "metadata": {
  "kernelspec": {
   "display_name": "Python 3",
   "language": "python",
   "name": "python3"
  },
  "language_info": {
   "codemirror_mode": {
    "name": "ipython",
    "version": 3
   },
   "file_extension": ".py",
   "mimetype": "text/x-python",
   "name": "python",
   "nbconvert_exporter": "python",
   "pygments_lexer": "ipython3",
   "version": "3.7.4"
  }
 },
 "nbformat": 4,
 "nbformat_minor": 2
}
