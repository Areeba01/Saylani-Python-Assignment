{
 "cells": [
  {
   "cell_type": "markdown",
   "metadata": {},
   "source": [
    "# Assignment : 03"
   ]
  },
  {
   "cell_type": "markdown",
   "metadata": {},
   "source": [
    "Q:01 Make a calculator using Python with addition , subtraction , multiplication ,division and power.\n"
   ]
  },
  {
   "cell_type": "code",
   "execution_count": 3,
   "metadata": {},
   "outputs": [
    {
     "name": "stdout",
     "output_type": "stream",
     "text": [
      "Do you want to continue? y/n ? y\n",
      "Enter Operator +\n",
      "Enter first value 2\n",
      "Enter second value 3\n",
      "5\n",
      "Do you want to continue? y/n ? y\n",
      "Enter Operator -\n",
      "Enter first value 5\n",
      "Enter second value 3\n",
      "2\n",
      "Do you want to continue? y/n ? y\n",
      "Enter Operator *\n",
      "Enter first value 4\n",
      "Enter second value 5\n",
      "20\n",
      "Do you want to continue? y/n ? y\n",
      "Enter Operator /\n",
      "Enter first value 8\n",
      "Enter second value 4\n",
      "2.0\n",
      "Do you want to continue? y/n ? n\n"
     ]
    }
   ],
   "source": [
    "ch=\"\"\n",
    "while ch!=\"N\":\n",
    "    ch=input(\"Do you want to continue? y/n ? \")\n",
    "    if ch.upper()== \"Y\":\n",
    "        op =input(\"Enter Operator \" )\n",
    "        first =int(input(\"Enter first value \" ))\n",
    "        second =int(input(\"Enter second value \" ))\n",
    "        if op == \"+\":\n",
    "            z = first + second\n",
    "            print(z)\n",
    "        elif op == \"/\":\n",
    "            z = first / second\n",
    "            print(z)\n",
    "        elif op == \"-\":\n",
    "            z = first - second\n",
    "            print(z)\n",
    "        elif op == \"*\":\n",
    "            z = first * second\n",
    "            print(z)\n",
    "        elif op == \"**\":\n",
    "            z = first ** second\n",
    "            print(z)\n",
    "        else:\n",
    "            print(\"wrong input\")\n",
    "    else:\n",
    "        break"
   ]
  },
  {
   "cell_type": "markdown",
   "metadata": {},
   "source": [
    "Q:02 Write a program to check if there is any numeric value in list using for loop"
   ]
  },
  {
   "cell_type": "code",
   "execution_count": 4,
   "metadata": {},
   "outputs": [
    {
     "name": "stdout",
     "output_type": "stream",
     "text": [
      "The numeric values present in the list are: \n",
      "55\n",
      "2.8\n"
     ]
    }
   ],
   "source": [
    "l1=[\"Areeba\",\"rolex\",55,\"ford\",2.8]\n",
    "n=[]\n",
    "for i in l1:\n",
    "    if (type(i)==int)|(type(i)==float):\n",
    "        n.append(i)\n",
    "\n",
    "if len(n)!=0:\n",
    "    print(\"The numeric values present in the list are: \")\n",
    "    for i in n:\n",
    "        print(i)\n",
    "else:\n",
    "    print(\"there is no numeric value in the list\")"
   ]
  },
  {
   "cell_type": "markdown",
   "metadata": {},
   "source": [
    "Q:03 Write a Python script to add a key to a dictionary"
   ]
  },
  {
   "cell_type": "code",
   "execution_count": 5,
   "metadata": {},
   "outputs": [
    {
     "name": "stdout",
     "output_type": "stream",
     "text": [
      "Before Adding key \n",
      "{'Brand': 'Civic', 'model': 'Mustang'}\n",
      "enter key you want to add45\n",
      "enter value you want to give to that key3\n",
      "After Adding Key\n",
      "{'Brand': 'Civic', 'model': 'Mustang', '45': '3'}\n"
     ]
    }
   ],
   "source": [
    "thisdict = {\n",
    "  \"Brand\": \"Civic\",\n",
    "  \"model\": \"Mustang\",\n",
    "}\n",
    "print(\"Before Adding key \")\n",
    "print(thisdict)\n",
    "key=input(\"enter key you want to add\")\n",
    "val=input(\"enter value you want to give to that key\")\n",
    "thisdict[key] = val\n",
    "print(\"After Adding Key\")\n",
    "print(thisdict)"
   ]
  },
  {
   "cell_type": "markdown",
   "metadata": {},
   "source": [
    "Q:04 Write a Python program to sum all the numeric items in a dictionary"
   ]
  },
  {
   "cell_type": "code",
   "execution_count": 6,
   "metadata": {},
   "outputs": [
    {
     "name": "stdout",
     "output_type": "stream",
     "text": [
      "{1: 'Python', 2: 3.4, 3: 'programming', 'rate': 5}\n",
      "The sum of all numeric values in the dictionary is 8.4\n"
     ]
    }
   ],
   "source": [
    "dic = {1:\"Python\",2:3.4,3:\"programming\",\"rate\":5}\n",
    "count =0\n",
    "for a in dic.values():\n",
    "    if (type(a) == int) |(type(a) == float) :\n",
    "        count = count + a\n",
    "print(dic)\n",
    "print(\"The sum of all numeric values in the dictionary is\",count)"
   ]
  },
  {
   "cell_type": "markdown",
   "metadata": {},
   "source": [
    "Q:05 Write a program to identify duplicate values from list"
   ]
  },
  {
   "cell_type": "code",
   "execution_count": 7,
   "metadata": {},
   "outputs": [
    {
     "name": "stdout",
     "output_type": "stream",
     "text": [
      "the duplicate values in the list are:  [3, 6, 8, 7, 9]\n"
     ]
    }
   ],
   "source": [
    "l = [2,5,3,6,8,3,7,8,9,3,1,4,6,9,7,7,0]\n",
    "k = []\n",
    "for a in l:\n",
    "    count = 0\n",
    "    c = l.index(a)\n",
    "    for i in range(c+1,len(l)):\n",
    "        if l[i] == a:\n",
    "            count +=1\n",
    "    if count > 0:\n",
    "        if a not in k:\n",
    "            k.append(a)\n",
    "print(\"the duplicate values in the list are: \",k)\n"
   ]
  },
  {
   "cell_type": "markdown",
   "metadata": {},
   "source": [
    "Q:06 Write a Python script to check if a given key already exists in a dictionary"
   ]
  },
  {
   "cell_type": "code",
   "execution_count": 8,
   "metadata": {},
   "outputs": [
    {
     "name": "stdout",
     "output_type": "stream",
     "text": [
      "Enter Key: 4\n",
      "doesn't exist \n"
     ]
    }
   ],
   "source": [
    "i = input(\"Enter Key: \")\n",
    "vehicles={\"car\":\"Ford\", \"bike\": \"honda\",\"car_price\":2000000, \"bike_price\":80000}\n",
    "if i in vehicles:\n",
    "    print(\"exist\")\n",
    "else:\n",
    "    print(\"doesn't exist \")"
   ]
  },
  {
   "cell_type": "code",
   "execution_count": null,
   "metadata": {},
   "outputs": [],
   "source": []
  }
 ],
 "metadata": {
  "kernelspec": {
   "display_name": "Python 3",
   "language": "python",
   "name": "python3"
  },
  "language_info": {
   "codemirror_mode": {
    "name": "ipython",
    "version": 3
   },
   "file_extension": ".py",
   "mimetype": "text/x-python",
   "name": "python",
   "nbconvert_exporter": "python",
   "pygments_lexer": "ipython3",
   "version": "3.7.4"
  }
 },
 "nbformat": 4,
 "nbformat_minor": 2
}
