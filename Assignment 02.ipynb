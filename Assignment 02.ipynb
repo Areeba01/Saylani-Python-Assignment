{
 "cells": [
  {
   "cell_type": "markdown",
   "metadata": {},
   "source": [
    "# Assignment : 02\n"
   ]
  },
  {
   "cell_type": "markdown",
   "metadata": {},
   "source": [
    "Q:01 Write a program which takes 5 inputs from user for different subject’s marks, total it and generate mark sheet using grades ?"
   ]
  },
  {
   "cell_type": "code",
   "execution_count": 1,
   "metadata": {},
   "outputs": [
    {
     "name": "stdout",
     "output_type": "stream",
     "text": [
      "Enter your name: areeba\n",
      "Enter your Roll number: 45\n",
      "Enter marks of Computer: 89\n",
      "Enter marks for Physics: 98\n",
      "Enter marks for English: 87\n",
      "Enter marks for  Maths: 99\n",
      "Enter marks for Urdu85\n",
      "\n",
      "\n",
      "SUBJECT\tTOTAL MAX MARKS\t OBTAINED MARKS \n",
      "English \t 100 \t 87\n",
      "Urdu \t\t 100 \t 85\n",
      "Computer \t 100 \t 89\n",
      "Maths \t\t 100 \t 99\n",
      "Science \t 100 \t 98\n",
      "Total Marks\t 500 \t Obtained Total\t 458\n",
      "Percentage:   91.60000000000001\n",
      "YOUR GRADE IS A+\n"
     ]
    }
   ],
   "source": [
    "#marksheet\n",
    "input(\"Enter your name: \")\n",
    "input(\"Enter your Roll number: \")\n",
    "C=int(input(\"Enter marks of Computer: \"))\n",
    "P=int(input(\"Enter marks for Physics: \"))\n",
    "E=int(input(\"Enter marks for English: \"))\n",
    "M=int(input(\"Enter marks for  Maths: \"))\n",
    "U=int(input(\"Enter marks for Urdu\"))\n",
    "#TotalObtained=s1+s2+s3+s4+s5\n",
    "#print(\"Obtained Marks: \", TotalObtained)\n",
    "#Totalmarks=500\n",
    "#perc=(TotalObtained/Totalmarks)*100\n",
    "#print(\"Percentage is\",perc) \n",
    "T = 100\n",
    "print(\"\\n\\nSUBJECT\\tTOTAL MAX MARKS\\t OBTAINED MARKS \")\n",
    "print(\"English\",\"\\t\",T,\"\\t\",E)\n",
    "print(\"Urdu\",\"\\t\\t\",T,\"\\t\",U)\n",
    "print(\"Computer\",\"\\t\",T,\"\\t\",C)\n",
    "print(\"Maths\",\"\\t\\t\",T,\"\\t\",M)\n",
    "print(\"Science\",\"\\t\",T,\"\\t\",P)\n",
    "print(\"Total Marks\\t\",T*5,\"\\t\",\"Obtained Total\\t\",E+U+M+C+P)\n",
    "\n",
    "\n",
    "perc=((E+U+M+C+P)/(T*5))*100\n",
    "print(\"Percentage:  \",perc)  \n",
    "\n",
    "if perc>=90.0 :   \n",
    "    print(\"YOUR GRADE IS A+\")\n",
    "elif perc>=80.0 and perc<90 :\n",
    "    print(\"YOUR GRADE IS A\")\n",
    "elif perc>=70.0 and perc<80.0   :\n",
    "    print(\"YOUR GRADE IS B\")\n",
    "elif perc>=60.0 and perc<70.0   :\n",
    "    print(\"YOUR GRADE IS C\")\n",
    "elif perc>=50.0 and perc<60.0   :\n",
    "    print(\"YOUR GRADE IS D\")"
   ]
  },
  {
   "cell_type": "markdown",
   "metadata": {},
   "source": [
    "Q: 02 Write a program which take input from user and identify that the given number is even or odd?"
   ]
  },
  {
   "cell_type": "code",
   "execution_count": 2,
   "metadata": {},
   "outputs": [
    {
     "name": "stdout",
     "output_type": "stream",
     "text": [
      "Enter a number: 3\n",
      "This is an odd number.\n"
     ]
    }
   ],
   "source": [
    "num = int(input(\"Enter a number: \"))\n",
    "mod = num % 2\n",
    "if mod > 0:\n",
    "    print(\"This is an odd number.\")\n",
    "else:\n",
    "    print(\"This is an even number.\")"
   ]
  },
  {
   "cell_type": "markdown",
   "metadata": {},
   "source": [
    "Q:03 Write a program which print the length of the list?\n",
    "\n"
   ]
  },
  {
   "cell_type": "code",
   "execution_count": 4,
   "metadata": {},
   "outputs": [
    {
     "name": "stdout",
     "output_type": "stream",
     "text": [
      "The length of list is:  3\n"
     ]
    }
   ],
   "source": [
    "n = len([10, 20, 30]) \n",
    "\n",
    "print(\"The length of list is: \", n)"
   ]
  },
  {
   "cell_type": "markdown",
   "metadata": {},
   "source": [
    "Q:04 Write a Python program to sum all the numeric items in a list?"
   ]
  },
  {
   "cell_type": "code",
   "execution_count": 5,
   "metadata": {},
   "outputs": [
    {
     "name": "stdout",
     "output_type": "stream",
     "text": [
      "List is  [2, 4, 6, 8, 10, 12]\n",
      "The sum of the list items is  42\n"
     ]
    }
   ],
   "source": [
    "list1=[2,4,6,8,10,12]\n",
    "sum=0\n",
    "for item in list1:\n",
    "    sum=sum+item\n",
    "print(\"List is \",list1)\n",
    "print(\"The sum of the list items is \",sum)"
   ]
  },
  {
   "cell_type": "markdown",
   "metadata": {},
   "source": [
    "Q:05 Write a Python program to get the largest number from a numeric list."
   ]
  },
  {
   "cell_type": "code",
   "execution_count": 6,
   "metadata": {},
   "outputs": [
    {
     "name": "stdout",
     "output_type": "stream",
     "text": [
      "Largest element is: 99\n"
     ]
    }
   ],
   "source": [
    "list1 = [10, 20, 4, 45, 99]  \n",
    "print(\"Largest element is:\", max(list1))"
   ]
  },
  {
   "cell_type": "markdown",
   "metadata": {},
   "source": [
    "Q:06 write a program that prints out all the elements of the list that are less than 5."
   ]
  },
  {
   "cell_type": "code",
   "execution_count": 7,
   "metadata": {},
   "outputs": [
    {
     "name": "stdout",
     "output_type": "stream",
     "text": [
      "[1, 1, 2, 3, 5, 8, 13, 21, 34, 55, 0, 4, 89] \n",
      "\n",
      "Numbers less then 5 in the given list above are: \n",
      " \n",
      "1\n",
      "1\n",
      "2\n",
      "3\n",
      "0\n",
      "4\n"
     ]
    }
   ],
   "source": [
    "a = [1, 1, 2, 3, 5, 8, 13, 21, 34, 55,0,4,89]\n",
    "print(a,\"\\n\")\n",
    "print(\"Numbers less then 5 in the given list above are: \\n \")\n",
    "for i in a:\n",
    "    if(i<5):\n",
    "        print(i)"
   ]
  },
  {
   "cell_type": "code",
   "execution_count": null,
   "metadata": {},
   "outputs": [],
   "source": []
  }
 ],
 "metadata": {
  "kernelspec": {
   "display_name": "Python 3",
   "language": "python",
   "name": "python3"
  },
  "language_info": {
   "codemirror_mode": {
    "name": "ipython",
    "version": 3
   },
   "file_extension": ".py",
   "mimetype": "text/x-python",
   "name": "python",
   "nbconvert_exporter": "python",
   "pygments_lexer": "ipython3",
   "version": "3.7.4"
  }
 },
 "nbformat": 4,
 "nbformat_minor": 2
}
