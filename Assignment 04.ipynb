{
 "cells": [
  {
   "cell_type": "markdown",
   "metadata": {},
   "source": [
    "# Assignment : 04"
   ]
  },
  {
   "cell_type": "markdown",
   "metadata": {},
   "source": [
    "Q:01 Use a dictionary to store information about a person you know. Store their first name, last name, age, and the city in which they live. You should have keys such as first_name, last_name, age, and city. Print each piece of information stored in your dictionary. Add a new key value pair about qualification then update the qualification value to high academic level then delete it."
   ]
  },
  {
   "cell_type": "code",
   "execution_count": 2,
   "metadata": {},
   "outputs": [
    {
     "name": "stdout",
     "output_type": "stream",
     "text": [
      "first_name is  Areeba\n",
      "last_name is  Shahzad\n",
      "age is  20\n",
      "city is  karachi\n",
      "\n",
      "\n",
      "\n",
      "after adding qualification\n",
      "\n",
      "first_name is  Areeba\n",
      "last_name is  Shahzad\n",
      "age is  20\n",
      "city is  karachi\n",
      "qualification is  undergraduate\n",
      "\n",
      "\n",
      "\n",
      "after updating qualification\n",
      "\n",
      "first_name is  Areeba\n",
      "last_name is  Shahzad\n",
      "age is  20\n",
      "city is  karachi\n",
      "qualification is  graduated\n",
      "\n",
      "\n",
      "\n",
      "after deleting qualification\n",
      "\n",
      "first_name is  Areeba\n",
      "last_name is  Shahzad\n",
      "age is  20\n",
      "city is  karachi\n",
      "\n",
      "\n",
      "\n"
     ]
    }
   ],
   "source": [
    "d={\"first_name\":\"Areeba\", \"last_name\":\"Shahzad\",\"age\":20,\"city\":\"karachi\"}\n",
    "for key,value in d.items():\n",
    "    print(key, \"is \", value)\n",
    "print(\"\\n\\n\")\n",
    "#adding qualification \n",
    "d[\"qualification\"]=\"undergraduate\"\n",
    "print(\"after adding qualification\\n\")\n",
    "for key,value in d.items():\n",
    "    print(key, \"is \", value)\n",
    "    \n",
    "print(\"\\n\\n\")\n",
    "#updating Qualification\n",
    "print(\"after updating qualification\\n\")\n",
    "d[\"qualification\"]=\"graduated\"\n",
    "for key,value in d.items():\n",
    "    print(key, \"is \", value)\n",
    "print(\"\\n\\n\")\n",
    "\n",
    "print(\"after deleting qualification\\n\")\n",
    "del d[\"qualification\"]\n",
    "for key,value in d.items():\n",
    "    print(key, \"is \", value)\n",
    "print(\"\\n\\n\")"
   ]
  },
  {
   "cell_type": "markdown",
   "metadata": {},
   "source": [
    "Q:02 Make a dictionary called cities. Use the names of three cities as keys in your dictionary. Create a dictionary of information about each city and include the country that the city is in, its approximate population, and one fact about that city. The keys for each city’s dictionary should be something like country, population, and fact. Print the name of each city and all of the information you have stored about it."
   ]
  },
  {
   "cell_type": "code",
   "execution_count": 7,
   "metadata": {},
   "outputs": [
    {
     "name": "stdout",
     "output_type": "stream",
     "text": [
      "Karachi\n",
      "country = Pakistan\n",
      "Population = 14.91 million\n",
      "Facts = largest city of Pakistan and the world’s second most populous town\n",
      "Lahore\n",
      "country = Pakistan\n",
      "Population = 11.13 million\n",
      "Facts = second largest city of Pakistan and the capital of Punjab province.\n",
      "Islamabad\n",
      "country = Pakistan\n",
      "Population = 1.015 million\n",
      "Facts = beautiful city that serves as the capital of the great nation of Pakistan,\n"
     ]
    }
   ],
   "source": [
    "cities={\"Karachi\":{\"country\":\"Pakistan\",\"Population\":\"14.91 million\",\"Facts\":\"largest city of Pakistan and the world’s second most populous town\"},\"Lahore\":{\"country\":\"Pakistan\",\"Population\":\"11.13 million\",\"Facts\":\"second largest city of Pakistan and the capital of Punjab province.\"},\"Islamabad\":{\"country\":\"Pakistan\",\"Population\":\"1.015 million\",\"Facts\":\"beautiful city that serves as the capital of the great nation of Pakistan,\"}}\n",
    "for k,v in cities.items():\n",
    "    print(k)\n",
    "    for a,b in v.items():\n",
    "        print(a,\"=\",b)\n"
   ]
  },
  {
   "cell_type": "markdown",
   "metadata": {},
   "source": [
    "Q:03 A movie theater charges different ticket prices depending on a person’s age. If a person is under the age of 3, the ticket is free; if they are between 3 and 12, the ticket is $10; and if they are over age 12, the ticket is $15. Write a loop in which you ask users their age, and then tell them the cost of their movie ticket."
   ]
  },
  {
   "cell_type": "code",
   "execution_count": 4,
   "metadata": {},
   "outputs": [
    {
     "name": "stdout",
     "output_type": "stream",
     "text": [
      "Enter your age: 2\n",
      "the ticket is free\n",
      "Want to know cost of movie ticket: type y for yes and n for no: y\n",
      "Enter your age: 10\n",
      "the ticket is $10\n",
      "Want to know cost of movie ticket: type y for yes and n for no: y\n",
      "Enter your age: 18\n",
      "the ticket is $15\n",
      "Want to know cost of movie ticket: type y for yes and n for no: n\n"
     ]
    }
   ],
   "source": [
    "while(True):\n",
    "    age =int(input(\"Enter your age: \"))\n",
    "    if age >0 and age < 3:\n",
    "        print(\"the ticket is free\")\n",
    "    elif age >= 3 and age <= 12:\n",
    "        print(\"the ticket is $10\")\n",
    "    elif age > 12:\n",
    "        print(\"the ticket is $15\")\n",
    "    else:\n",
    "        print(\"Invalid input\")\n",
    "    a =input(\"Want to know cost of movie ticket: type y for yes and n for no: \" )\n",
    "    \n",
    "    if a == \"n\":\n",
    "        break"
   ]
  },
  {
   "cell_type": "markdown",
   "metadata": {},
   "source": [
    "Q:04 Write a function called favorite_book() that accepts one parameter, title. The function should print a message, such as One of my favorite books is Alice in Wonderland. Call the function, making sure to include a book title as an argument in the function call."
   ]
  },
  {
   "cell_type": "code",
   "execution_count": 5,
   "metadata": {},
   "outputs": [
    {
     "name": "stdout",
     "output_type": "stream",
     "text": [
      "One of my favorite books is  Alice in Wonderland\n"
     ]
    }
   ],
   "source": [
    "def favorite_book(title):\n",
    "    print(\"One of my favorite books is \",title)\n",
    "favorite_book(\"Alice in Wonderland\")"
   ]
  },
  {
   "cell_type": "markdown",
   "metadata": {},
   "source": [
    "Q:05 Write a program which randomly generate a number between 1 to 30 and ask the user in input field to guess the correct number. Give three chances to user guess the number and also give hint to user if hidden number is greater or smaller than the number he given to input field."
   ]
  },
  {
   "cell_type": "code",
   "execution_count": 6,
   "metadata": {},
   "outputs": [
    {
     "name": "stdout",
     "output_type": "stream",
     "text": [
      "Guess the correct number: 20\n",
      "Hidden number is smaller than the number you input\n",
      "Guess the correct number: 35\n",
      "Hidden number is smaller than the number you input\n",
      "Guess the correct number: 50\n",
      "Hidden number is smaller than the number you input\n",
      "Hidden number is:  17\n"
     ]
    }
   ],
   "source": [
    "import random\n",
    "a = random.randint(1,30)\n",
    "for i in range(3):\n",
    "    ans = int(input(\"Guess the correct number: \"))\n",
    "    if ans == a:\n",
    "        print(\"you guess it correct\")\n",
    "        break\n",
    "    elif a>ans:\n",
    "        print(\"Hidden number is greater than the number you input\")\n",
    "    elif a < ans:\n",
    "        print(\"Hidden number is smaller than the number you input\")\n",
    "print(\"Hidden number is: \",a)"
   ]
  },
  {
   "cell_type": "code",
   "execution_count": null,
   "metadata": {},
   "outputs": [],
   "source": []
  }
 ],
 "metadata": {
  "kernelspec": {
   "display_name": "Python 3",
   "language": "python",
   "name": "python3"
  },
  "language_info": {
   "codemirror_mode": {
    "name": "ipython",
    "version": 3
   },
   "file_extension": ".py",
   "mimetype": "text/x-python",
   "name": "python",
   "nbconvert_exporter": "python",
   "pygments_lexer": "ipython3",
   "version": "3.7.4"
  }
 },
 "nbformat": 4,
 "nbformat_minor": 2
}
